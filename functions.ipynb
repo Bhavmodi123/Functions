{
  "nbformat": 4,
  "nbformat_minor": 0,
  "metadata": {
    "colab": {
      "provenance": []
    },
    "kernelspec": {
      "name": "python3",
      "display_name": "Python 3"
    },
    "language_info": {
      "name": "python"
    }
  },
  "cells": [
    {
      "cell_type": "markdown",
      "source": [
        "# Functions"
      ],
      "metadata": {
        "id": "gMF-4zGIxWPs"
      }
    },
    {
      "cell_type": "markdown",
      "source": [
        "1.What was the question?\n",
        "   -> I am the answer."
      ],
      "metadata": {
        "id": "MzeMaiMHxlZ-"
      }
    },
    {
      "cell_type": "markdown",
      "source": [],
      "metadata": {
        "id": "5wyrI21Yx4o-"
      }
    },
    {
      "cell_type": "code",
      "source": [
        "# question\n",
        "\n",
        "'''\n",
        "this is answer\n",
        "'''\n"
      ],
      "metadata": {
        "id": "EgC5KGagya54"
      },
      "execution_count": null,
      "outputs": []
    }
  ]
}